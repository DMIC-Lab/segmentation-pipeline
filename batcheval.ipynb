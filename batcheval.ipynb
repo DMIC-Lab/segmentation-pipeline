{
 "cells": [
  {
   "cell_type": "code",
   "execution_count": 1,
   "metadata": {},
   "outputs": [],
   "source": [
    "from pipeline import segmentationPipeline\n",
    "import numpy as np\n",
    "import os\n",
    "import matplotlib.pyplot as plt\n",
    "import torch\n",
    "from utils import displayDice, dice_per_class\n",
    "from imageviewer import showSegmentation"
   ]
  },
  {
   "cell_type": "code",
   "execution_count": 3,
   "metadata": {},
   "outputs": [],
   "source": [
    "pipeline = segmentationPipeline(device='cuda:0')"
   ]
  },
  {
   "cell_type": "code",
   "execution_count": 8,
   "metadata": {},
   "outputs": [],
   "source": [
    "root = '/datadrive/redoFinetuning/exhale_rotated'\n",
    "\n",
    "images = sorted([val for val in os.listdir('/datadrive/redoFinetuning/exhale_rotated') if 'image' in val])\n",
    "masks = sorted([val for val in os.listdir('/datadrive/redoFinetuning/exhale_rotated') if 'mask' in val])"
   ]
  },
  {
   "cell_type": "code",
   "execution_count": 3,
   "metadata": {},
   "outputs": [],
   "source": [
    "root = '/datadrive/redoFinetuning/inhale_rotated'\n",
    "images = sorted([val for val in os.listdir(root) if 'image' in val])\n",
    "masks = sorted([val for val in os.listdir(root) if 'mask' in val])"
   ]
  },
  {
   "cell_type": "code",
   "execution_count": 9,
   "metadata": {},
   "outputs": [
    {
     "data": {
      "text/plain": [
       "'/datadrive/redoFinetuning/exhale_rotated'"
      ]
     },
     "execution_count": 9,
     "metadata": {},
     "output_type": "execute_result"
    }
   ],
   "source": [
    "root"
   ]
  },
  {
   "cell_type": "code",
   "execution_count": 10,
   "metadata": {},
   "outputs": [],
   "source": [
    "for i,file in enumerate(images):\n",
    "    img = np.load(os.path.join(root,file))\n",
    "    img = img / 255\n",
    "    img = np.clip(img,0,1)\n",
    "    np.save(os.path.join(root,file),img)\n",
    "    # mask = np.load(os.path.join(root,masks[i]))\n",
    "    # out = pipeline.segment(img)\n",
    "    # #showSegmentation(img,out)\n",
    "    # displayDice(dice_per_class(torch.tensor(mask).cuda(),torch.tensor(out).unsqueeze(0).unsqueeze(0).cuda(),num_classes=6))\n",
    "    #np.save(file.replace('.npy','_seg21524.npy'),out.squeeze(0).squeeze(0).cpu().numpy())\n",
    "# viewer = napari.view_image(mask,name='gt',colormap='gist_earth',contrast_limits=(0,5))\n",
    "# viewer.add_image(out.squeeze(0).squeeze(0).cpu().numpy(),colormap='gist_earth',name='segmentation',contrast_limits=(0,5))"
   ]
  },
  {
   "cell_type": "code",
   "execution_count": 4,
   "metadata": {},
   "outputs": [
    {
     "name": "stdout",
     "output_type": "stream",
     "text": [
      "B10_00.mat_inhale_image.nii.npy B10_00_inhale_mask_final.nii.gz.npy\n"
     ]
    }
   ],
   "source": [
    "for i,file in enumerate(images):\n",
    "    print(file,masks[i])\n",
    "    img = np.load(os.path.join(root,file))\n",
    "    img = img / 255\n",
    "    img = np.clip(img,0,1)\n",
    "    mask = np.load(os.path.join(root,masks[i]))\n",
    "    out = pipeline.segment(img)\n",
    "    showSegmentation(img,out)\n",
    "    break\n",
    "    #displayDice(dice_per_class(torch.tensor(mask).cuda(),torch.tensor(out).unsqueeze(0).unsqueeze(0).cuda(),num_classes=6))\n",
    "    #np.save(file.replace('.npy','_seg21524.npy'),out.squeeze(0).squeeze(0).cpu().numpy())\n",
    "# viewer = napari.view_image(mask,name='gt',colormap='gist_earth',contrast_limits=(0,5))\n",
    "# viewer.add_image(out.squeeze(0).squeeze(0).cpu().numpy(),colormap='gist_earth',name='segmentation',contrast_limits=(0,5))"
   ]
  },
  {
   "cell_type": "code",
   "execution_count": 5,
   "metadata": {},
   "outputs": [],
   "source": [
    "from scipy.io import loadmat,savemat\n",
    "\n",
    "for file in os.listdir('./source'):\n",
    "    workspace = loadmat(os.path.join('./source',file))\n",
    "    img = workspace['spectCT']\n",
    "    img = img / 1000\n",
    "    img = np.clip(img,0,1)\n",
    "    img = np.rot90(img, k=1, axes=(0,1))\n",
    "    img = np.rot90(img, k=1, axes=(0,2))\n",
    "    img = np.flip(img, axis=2)\n",
    "    out = pipeline.segment(img)\n",
    "    workspace['spectCT_mask'] = out\n",
    "    showSegmentation(img,out)\n",
    "    break\n",
    "    savemat(os.path.join('./dest',file),workspace) \n",
    "    \n"
   ]
  },
  {
   "cell_type": "code",
   "execution_count": 8,
   "metadata": {},
   "outputs": [],
   "source": [
    "ganoutput = np.load('/home/aaronluong/Downloads/testGANoutput.npy')\n",
    "ganoutput = np.clip(ganoutput,0,1/1.624)\n",
    "ganoutput = ganoutput * 1.624\n",
    "ganoutput = np.flip(ganoutput,1)\n",
    "\n",
    "\n",
    "showSegmentation(ganoutput,pipeline.segment(ganoutput,getLR=True))"
   ]
  }
 ],
 "metadata": {
  "kernelspec": {
   "display_name": "segmentationPipeline",
   "language": "python",
   "name": "python3"
  },
  "language_info": {
   "codemirror_mode": {
    "name": "ipython",
    "version": 3
   },
   "file_extension": ".py",
   "mimetype": "text/x-python",
   "name": "python",
   "nbconvert_exporter": "python",
   "pygments_lexer": "ipython3",
   "version": "3.10.13"
  }
 },
 "nbformat": 4,
 "nbformat_minor": 2
}
