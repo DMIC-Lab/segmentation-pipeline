{
 "cells": [
  {
   "cell_type": "code",
   "execution_count": 1,
   "metadata": {},
   "outputs": [],
   "source": [
    "from pipeline import segmentationPipeline\n",
    "import numpy as np\n",
    "import napari\n",
    "import os\n",
    "import matplotlib.pyplot as plt\n",
    "import torch\n",
    "from utils import displayDice, dice_per_class"
   ]
  },
  {
   "cell_type": "code",
   "execution_count": 2,
   "metadata": {},
   "outputs": [],
   "source": [
    "pipeline = segmentationPipeline(device='cuda:0',weightPathOverrides=[None,'/home/aaronluong/Documents/GitHub/segmentation-pipeline/weights/17_cancer_LUNA16_R_weights.pt','/home/aaronluong/Documents/GitHub/segmentation-pipeline/weights/17_cancer_LUNA16_L_weights.pt'])\n",
    "#pipeline = segmentationPipeline(device='cuda:0')"
   ]
  },
  {
   "cell_type": "code",
   "execution_count": 7,
   "metadata": {},
   "outputs": [
    {
     "name": "stdout",
     "output_type": "stream",
     "text": [
      "Average: 0.9532 LUL: 0.9792 LLL: 0.9652 RUL: 0.9593 RML: 0.9436 RLL: 0.9187\n",
      "Average: 0.9406 LUL: 0.9682 LLL: 0.9389 RUL: 0.9420 RML: 0.9204 RLL: 0.9333\n",
      "Average: 0.7344 LUL: 0.9791 LLL: 0.9646 RUL: 0.8342 RML: 0.0093 RLL: 0.8848\n",
      "Average: 0.9442 LUL: 0.9624 LLL: 0.9688 RUL: 0.9522 RML: 0.8835 RLL: 0.9542\n",
      "Average: 0.9218 LUL: 0.9727 LLL: 0.9700 RUL: 0.8908 RML: 0.8206 RLL: 0.9547\n",
      "Average: 0.9324 LUL: 0.9704 LLL: 0.9256 RUL: 0.9532 RML: 0.8821 RLL: 0.9309\n",
      "Average: 0.9493 LUL: 0.9793 LLL: 0.9627 RUL: 0.9604 RML: 0.8905 RLL: 0.9538\n",
      "Average: 0.9408 LUL: 0.9439 LLL: 0.9294 RUL: 0.9501 RML: 0.9325 RLL: 0.9480\n",
      "Average: 0.9401 LUL: 0.9410 LLL: 0.9293 RUL: 0.9498 RML: 0.9259 RLL: 0.9543\n",
      "Average: 0.7257 LUL: 0.9406 LLL: 0.9361 RUL: 0.6637 RML: 0.1524 RLL: 0.9355\n"
     ]
    }
   ],
   "source": [
    "for file in os.listdir('/home/aaronluong/gabiSegmentationProject/test cases/LUNA16/test_images'):\n",
    "    img = np.load(os.path.join('/home/aaronluong/gabiSegmentationProject/test cases/LUNA16/test_images',file))\n",
    "    img = img + 1000\n",
    "    img = np.clip(img,0,1000)\n",
    "    img = np.flip(img,1)\n",
    "    # mask = np.load(os.path.join('/home/aaronluong/gabiSegmentationProject/test cases/LUNA16/test_masks',file.replace('image.npy','LobeSegmentation.npy')))\n",
    "    # mask = np.where(mask > 6, mask -6, mask) #7-8 -> 1-2\n",
    "    # mask = np.where(mask > 3, mask -1, mask) #4-6 -> 3-5\n",
    "    # mask = np.flip(mask,1)\n",
    "    # mask = np.array(mask)\n",
    "    out = pipeline.segment(img)\n",
    "\n",
    "    displayDice(dice_per_class(torch.tensor(mask).cuda(),out,num_classes=6))\n",
    "    #break\n",
    "    np.save(file.replace('.npy','_seg21524.npy'),out.squeeze(0).squeeze(0).cpu().numpy())\n",
    "# viewer = napari.view_image(mask,name='gt',colormap='gist_earth',contrast_limits=(0,5))\n",
    "# viewer.add_image(out.squeeze(0).squeeze(0).cpu().numpy(),colormap='gist_earth',name='segmentation',contrast_limits=(0,5))"
   ]
  },
  {
   "cell_type": "code",
   "execution_count": null,
   "metadata": {},
   "outputs": [
    {
     "data": {
      "text/plain": [
       "<Image layer 'image' at 0x7fda04613100>"
      ]
     },
     "execution_count": 6,
     "metadata": {},
     "output_type": "execute_result"
    }
   ],
   "source": [
    "# viewer.add_image(img,name='image',colormap='gray',contrast_limits=(0,1000))"
   ]
  }
 ],
 "metadata": {
  "kernelspec": {
   "display_name": "segmentationPipeline",
   "language": "python",
   "name": "python3"
  },
  "language_info": {
   "codemirror_mode": {
    "name": "ipython",
    "version": 3
   },
   "file_extension": ".py",
   "mimetype": "text/x-python",
   "name": "python",
   "nbconvert_exporter": "python",
   "pygments_lexer": "ipython3",
   "version": "3.10.13"
  }
 },
 "nbformat": 4,
 "nbformat_minor": 2
}
