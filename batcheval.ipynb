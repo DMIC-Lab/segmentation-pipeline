{
 "cells": [
  {
   "cell_type": "code",
   "execution_count": 1,
   "metadata": {},
   "outputs": [],
   "source": [
    "from pipeline import segmentationPipeline\n",
    "import numpy as np\n",
    "import napari\n",
    "import os\n",
    "import matplotlib.pyplot as plt\n",
    "import torch"
   ]
  },
  {
   "cell_type": "code",
   "execution_count": 2,
   "metadata": {},
   "outputs": [],
   "source": [
    "pipeline = segmentationPipeline(device='cuda:0',weightPathOverrides=[None,'/home/aaronluong/Documents/GitHub/segmentation-pipeline/weights/17_cancer_LUNA16_R_weights.pt','/home/aaronluong/Documents/GitHub/segmentation-pipeline/weights/17_cancer_LUNA16_L_weights.pt'])\n",
    "#pipeline = segmentationPipeline(device='cuda:0')"
   ]
  },
  {
   "cell_type": "code",
   "execution_count": 3,
   "metadata": {},
   "outputs": [],
   "source": [
    "def one_hot_encode(tensor, num_classes):\n",
    "    \"\"\"\n",
    "    Convert tensor with indices (after argmax) to one-hot encoded tensor.\n",
    "    \"\"\"\n",
    "    tensor = tensor.long()  # Ensure tensor is of dtype long\n",
    "    shape = tensor.shape\n",
    "    one_hot = torch.zeros(*shape, num_classes, dtype=torch.float32, device=tensor.device)\n",
    "    return one_hot.scatter_(len(shape), tensor.unsqueeze(-1), 1.0)\n",
    "def dice_per_class(y_true, y_pred, num_classes, eps=1e-7):\n",
    "    \"\"\"\n",
    "    Calculate Dice Loss for each class.\n",
    "    Parameters:\n",
    "    - y_true: Ground truth masks with shape [batch_size, h, w, d].\n",
    "    - y_pred: Predicted probabilities with the same shape as y_true.\n",
    "    - num_classes: Total number of classes.\n",
    "    - eps: Small value to avoid division by zero.\n",
    "    Returns:\n",
    "    - torch tensor of shape [num_classes], with dice loss per class.\n",
    "    \"\"\"\n",
    "    y_true_one_hot = one_hot_encode(y_true, num_classes).squeeze(0).squeeze(0)\n",
    "    y_pred_one_hot = one_hot_encode(y_pred,num_classes).squeeze(0).squeeze(0)  # Convert from probabilities to one-hot format\n",
    "    intersection = torch.sum(y_true_one_hot * y_pred_one_hot, dim=(0, 1, 2))\n",
    "    union = torch.sum(y_true_one_hot, dim=(0, 1, 2)) + torch.sum(y_pred_one_hot, dim=(0, 1, 2))\n",
    "    dice_coeff = (2. * intersection + eps) / (union + eps)\n",
    "    return dice_coeff\n",
    "def average_dice(y_true, y_pred, num_classes, eps=1e-7):\n",
    "    \"\"\"\n",
    "    Calculate the average Dice Loss over non-zero classes.\n",
    "    Parameters:\n",
    "    - y_true, y_pred, num_classes, eps: As before.\n",
    "    Returns:\n",
    "    - float, average dice loss over non-zero classes.\n",
    "    \"\"\"\n",
    "    per_class_dice = dice_per_class(y_true, y_pred, num_classes, eps)\n",
    "    # We'll exclude the zeroth class (often background) when averaging\n",
    "    return torch.mean(per_class_dice[1:])"
   ]
  },
  {
   "cell_type": "code",
   "execution_count": 4,
   "metadata": {},
   "outputs": [],
   "source": [
    "def displayDice(results):\n",
    "    results = list(results)\n",
    "    print(f'Average: {(sum(results[1:])/len(results[1:])):.4f} LUL: {results[1]:.4f} LLL: {results[2]:.4f} RUL: {results[3]:.4f} RML: {results[4]:.4f} RLL: {results[5]:.4f}')"
   ]
  },
  {
   "cell_type": "code",
   "execution_count": 7,
   "metadata": {},
   "outputs": [
    {
     "name": "stdout",
     "output_type": "stream",
     "text": [
      "Average: 0.9532 LUL: 0.9792 LLL: 0.9652 RUL: 0.9593 RML: 0.9436 RLL: 0.9187\n",
      "Average: 0.9406 LUL: 0.9682 LLL: 0.9389 RUL: 0.9420 RML: 0.9204 RLL: 0.9333\n",
      "Average: 0.7344 LUL: 0.9791 LLL: 0.9646 RUL: 0.8342 RML: 0.0093 RLL: 0.8848\n",
      "Average: 0.9442 LUL: 0.9624 LLL: 0.9688 RUL: 0.9522 RML: 0.8835 RLL: 0.9542\n",
      "Average: 0.9218 LUL: 0.9727 LLL: 0.9700 RUL: 0.8908 RML: 0.8206 RLL: 0.9547\n",
      "Average: 0.9324 LUL: 0.9704 LLL: 0.9256 RUL: 0.9532 RML: 0.8821 RLL: 0.9309\n",
      "Average: 0.9493 LUL: 0.9793 LLL: 0.9627 RUL: 0.9604 RML: 0.8905 RLL: 0.9538\n",
      "Average: 0.9408 LUL: 0.9439 LLL: 0.9294 RUL: 0.9501 RML: 0.9325 RLL: 0.9480\n",
      "Average: 0.9401 LUL: 0.9410 LLL: 0.9293 RUL: 0.9498 RML: 0.9259 RLL: 0.9543\n",
      "Average: 0.7257 LUL: 0.9406 LLL: 0.9361 RUL: 0.6637 RML: 0.1524 RLL: 0.9355\n"
     ]
    }
   ],
   "source": [
    "for file in os.listdir('/home/aaronluong/gabiSegmentationProject/test cases/LUNA16/test_images'):\n",
    "    img = np.load(os.path.join('/home/aaronluong/gabiSegmentationProject/test cases/LUNA16/test_images',file))\n",
    "    img = img + 1000\n",
    "    img = np.clip(img,0,1000)\n",
    "    img = np.flip(img,1)\n",
    "    mask = np.load(os.path.join('/home/aaronluong/gabiSegmentationProject/test cases/LUNA16/test_masks',file.replace('image.npy','LobeSegmentation.npy')))\n",
    "    mask = np.where(mask > 6, mask -6, mask) #7-8 -> 1-2\n",
    "    mask = np.where(mask > 3, mask -1, mask) #4-6 -> 3-5\n",
    "    mask = np.flip(mask,1)\n",
    "    mask = np.array(mask)\n",
    "    out = pipeline.segment(img,getLR=False,takeLargest=True)\n",
    "\n",
    "    displayDice(dice_per_class(torch.tensor(mask).cuda(),out,num_classes=6))\n",
    "    #break\n",
    "    np.save(file.replace('.npy','_seg21524.npy'),out.squeeze(0).squeeze(0).cpu().numpy())\n",
    "# viewer = napari.view_image(mask,name='gt',colormap='gist_earth',contrast_limits=(0,5))\n",
    "# viewer.add_image(out.squeeze(0).squeeze(0).cpu().numpy(),colormap='gist_earth',name='segmentation',contrast_limits=(0,5))"
   ]
  },
  {
   "cell_type": "code",
   "execution_count": null,
   "metadata": {},
   "outputs": [
    {
     "data": {
      "text/plain": [
       "<Image layer 'image' at 0x7fda04613100>"
      ]
     },
     "execution_count": 6,
     "metadata": {},
     "output_type": "execute_result"
    }
   ],
   "source": [
    "# viewer.add_image(img,name='image',colormap='gray',contrast_limits=(0,1000))"
   ]
  }
 ],
 "metadata": {
  "kernelspec": {
   "display_name": "segmentationPipeline",
   "language": "python",
   "name": "python3"
  },
  "language_info": {
   "codemirror_mode": {
    "name": "ipython",
    "version": 3
   },
   "file_extension": ".py",
   "mimetype": "text/x-python",
   "name": "python",
   "nbconvert_exporter": "python",
   "pygments_lexer": "ipython3",
   "version": "3.9.13"
  }
 },
 "nbformat": 4,
 "nbformat_minor": 2
}
